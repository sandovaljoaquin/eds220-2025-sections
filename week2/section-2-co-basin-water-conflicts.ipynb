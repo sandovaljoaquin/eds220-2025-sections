{
 "cells": [
  {
   "cell_type": "markdown",
   "id": "b4e2f222-bf6f-473d-9b12-589640177df0",
   "metadata": {},
   "source": [
    "## Water conflicts in the Colorado River Basin "
   ]
  },
  {
   "cell_type": "code",
   "execution_count": null,
   "id": "16f4d701-616f-479c-b7d6-f977564b505a",
   "metadata": {},
   "outputs": [],
   "source": []
  }
 ],
 "metadata": {
  "kernelspec": {
   "display_name": "EDS220",
   "language": "python",
   "name": "eds220-env"
  },
  "language_info": {
   "codemirror_mode": {
    "name": "ipython",
    "version": 3
   },
   "file_extension": ".py",
   "mimetype": "text/x-python",
   "name": "python",
   "nbconvert_exporter": "python",
   "pygments_lexer": "ipython3",
   "version": "3.11.4"
  }
 },
 "nbformat": 4,
 "nbformat_minor": 5
}
