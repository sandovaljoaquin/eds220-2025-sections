{
 "cells": [
  {
   "cell_type": "markdown",
   "id": "b4e2f222-bf6f-473d-9b12-589640177df0",
   "metadata": {},
   "source": [
    "## Water conflicts in the Colorado River Basin "
   ]
  },
  {
   "cell_type": "markdown",
   "id": "e159cbdf-a11a-43df-be6e-b969985ea07f",
   "metadata": {},
   "source": [
    "## 1. Archive exploration \n",
    "\n",
    "Where was the data collected from?\n",
    "\n",
    "This data was collected from the Colorado River Basin (particularly the upper portion). \n",
    "\n",
    "During what time frame were the observations in the dataset collected?\n",
    "\n",
    "2005-2021\n",
    "\n",
    "What was the author’s perceived value of this dataset?\n",
    "\n",
    "To enhance understanding of social vulnerability to water insecurity, resiliency demonstrated by institutions, and conflict or crisis around water resource management. \n",
    "\n",
    "Brief description: \n",
    "\n",
    "This dataset catalogues events in the Colorado River Basin. Events were defined as interaction between parties that is action-defined, recorded, and made availible to the public. \n",
    "\n",
    "Citation: \n",
    "\n",
    "Holloman, D.V., Hines, M.K., and Zoanni, D.K., 2023, Coded Water Conflict and Crisis Events in the Colorado River Basin, Derived from LexisNexis search 2005-2021: U.S. Geological Survey data release, https://doi.org/10.5066/P9X6WR7J.\n",
    "\n",
    "Date Accessed: 10/10/2025\n",
    "\n",
    "Link to Archive: https://www.sciencebase.gov/catalog/item/63acac09d34e92aad3ca1480 \n",
    "\n",
    "\n"
   ]
  },
  {
   "cell_type": "markdown",
   "id": "69feb3da-df8a-4de5-ad4e-c13ba01aff48",
   "metadata": {},
   "source": [
    "### 2. Data Loading "
   ]
  },
  {
   "cell_type": "code",
   "execution_count": null,
   "id": "d04820c5-284c-48b6-9eb9-643eb3cfad92",
   "metadata": {
    "tags": []
   },
   "outputs": [],
   "source": [
    "import pandas as pd\n",
    "import numpy as np"
   ]
  },
  {
   "cell_type": "code",
   "execution_count": 6,
   "id": "c858aeae-ce03-48a5-9665-0091c92ceceb",
   "metadata": {
    "tags": []
   },
   "outputs": [],
   "source": [
    "df = pd.read_csv('../data/colorado.csv')"
   ]
  },
  {
   "cell_type": "markdown",
   "id": "86f23790-46dc-4080-9ee8-94d6b3740c21",
   "metadata": {},
   "source": [
    "## 3. Preliminary data exploration"
   ]
  },
  {
   "cell_type": "code",
   "execution_count": 10,
   "id": "24d1cbe2-be28-42f7-a2b6-982fd506a8b1",
   "metadata": {
    "tags": []
   },
   "outputs": [],
   "source": [
    "# Set pandas to display all columns in dataframe \n",
    "\n",
    "pd.set_option('display.max_columns', None)"
   ]
  },
  {
   "cell_type": "code",
   "execution_count": 12,
   "id": "f3c79483-09bf-4679-9c9e-82ccaf950596",
   "metadata": {
    "tags": []
   },
   "outputs": [
    {
     "data": {
      "text/plain": [
       "(268, 48)"
      ]
     },
     "execution_count": 12,
     "metadata": {},
     "output_type": "execute_result"
    }
   ],
   "source": [
    "# Obtain preliminary information and explore df in 4 ways\\\n",
    "#1\n",
    "\n",
    "df.shape"
   ]
  },
  {
   "cell_type": "code",
   "execution_count": 15,
   "id": "12ed62cd-bb91-4d32-bac1-92e30bd4d79c",
   "metadata": {
    "tags": []
   },
   "outputs": [
    {
     "data": {
      "text/plain": [
       "Index(['Event', 'Search Source', 'Newspaper', 'Article Title', 'Duplicate',\n",
       "       'Report Date', 'Report Year', 'Event Date', 'Event Day', 'Event Month',\n",
       "       'Event Year', 'Conflict Present', 'Crisis Present', 'Basin', 'HUC6',\n",
       "       'HUC2', 'Place', 'County', 'County FIPS', 'State', 'State FIPS',\n",
       "       'Urban or Rural', 'Issue Type', 'Event Summary', 'Stakeholders',\n",
       "       'Intensity Value', 'Comments', 'Related Observation Themes',\n",
       "       'Article Text Search - water quality',\n",
       "       'Article Text Search - invasive species',\n",
       "       'Article Text Search - conservation', 'Article Text Search - drought',\n",
       "       'Article Text Search - flood',\n",
       "       'Article Text Search - ground water depletion',\n",
       "       'Article Text Search - depletion',\n",
       "       'Article Text Search - infrastructure',\n",
       "       'Article Text Search - fish passage',\n",
       "       'Article Text Search - instream water rights',\n",
       "       'Article Text Search - water rights',\n",
       "       'Article Text Search - intergovernmental',\n",
       "       'Article Text Search - water transfers',\n",
       "       'Article Text Search - navigation', 'Article Text Search - fish',\n",
       "       'Article Text Search - invasive', 'Article Text Search - diversion',\n",
       "       'Article Text Search - water diversion',\n",
       "       'Article Text Search - instream', 'Article Text Search - aquatic'],\n",
       "      dtype='object')"
      ]
     },
     "execution_count": 15,
     "metadata": {},
     "output_type": "execute_result"
    }
   ],
   "source": [
    "#2\n",
    "df.columns"
   ]
  },
  {
   "cell_type": "code",
   "execution_count": 13,
   "id": "ff59eb30-6d1e-4753-87ba-9842699409a6",
   "metadata": {
    "tags": []
   },
   "outputs": [
    {
     "data": {
      "text/plain": [
       "Event                                             0\n",
       "Search Source                                     0\n",
       "Newspaper                                         0\n",
       "Article Title                                     0\n",
       "Duplicate                                         1\n",
       "Report Date                                       1\n",
       "Report Year                                       3\n",
       "Event Date                                       20\n",
       "Event Day                                       250\n",
       "Event Month                                      56\n",
       "Event Year                                       11\n",
       "Conflict Present                                 16\n",
       "Crisis Present                                   14\n",
       "Basin                                            18\n",
       "HUC6                                            158\n",
       "HUC2                                             18\n",
       "Place                                            14\n",
       "County                                          260\n",
       "County FIPS                                     260\n",
       "State                                            90\n",
       "State FIPS                                       90\n",
       "Urban or Rural                                   14\n",
       "Issue Type                                       13\n",
       "Event Summary                                    12\n",
       "Stakeholders                                     13\n",
       "Intensity Value                                  13\n",
       "Comments                                         78\n",
       "Related Observation Themes                      182\n",
       "Article Text Search - water quality               0\n",
       "Article Text Search - invasive species            0\n",
       "Article Text Search - conservation                0\n",
       "Article Text Search - drought                     0\n",
       "Article Text Search - flood                       0\n",
       "Article Text Search - ground water depletion      0\n",
       "Article Text Search - depletion                   0\n",
       "Article Text Search - infrastructure              0\n",
       "Article Text Search - fish passage                0\n",
       "Article Text Search - instream water rights       0\n",
       "Article Text Search - water rights                0\n",
       "Article Text Search - intergovernmental           0\n",
       "Article Text Search - water transfers             0\n",
       "Article Text Search - navigation                  0\n",
       "Article Text Search - fish                        0\n",
       "Article Text Search - invasive                    0\n",
       "Article Text Search - diversion                   0\n",
       "Article Text Search - water diversion             0\n",
       "Article Text Search - instream                    0\n",
       "Article Text Search - aquatic                     0\n",
       "dtype: int64"
      ]
     },
     "execution_count": 13,
     "metadata": {},
     "output_type": "execute_result"
    }
   ],
   "source": [
    "#3\n",
    "\n",
    "df.isna().sum()"
   ]
  },
  {
   "cell_type": "code",
   "execution_count": 16,
   "id": "c4a2b86e-19ae-4c2b-87fe-9e509c6f49f3",
   "metadata": {
    "tags": []
   },
   "outputs": [
    {
     "data": {
      "text/plain": [
       "Event                                             int64\n",
       "Search Source                                    object\n",
       "Newspaper                                        object\n",
       "Article Title                                    object\n",
       "Duplicate                                        object\n",
       "Report Date                                      object\n",
       "Report Year                                     float64\n",
       "Event Date                                       object\n",
       "Event Day                                       float64\n",
       "Event Month                                     float64\n",
       "Event Year                                      float64\n",
       "Conflict Present                                 object\n",
       "Crisis Present                                   object\n",
       "Basin                                            object\n",
       "HUC6                                             object\n",
       "HUC2                                             object\n",
       "Place                                            object\n",
       "County                                           object\n",
       "County FIPS                                     float64\n",
       "State                                            object\n",
       "State FIPS                                       object\n",
       "Urban or Rural                                   object\n",
       "Issue Type                                       object\n",
       "Event Summary                                    object\n",
       "Stakeholders                                     object\n",
       "Intensity Value                                 float64\n",
       "Comments                                         object\n",
       "Related Observation Themes                       object\n",
       "Article Text Search - water quality               int64\n",
       "Article Text Search - invasive species            int64\n",
       "Article Text Search - conservation                int64\n",
       "Article Text Search - drought                     int64\n",
       "Article Text Search - flood                       int64\n",
       "Article Text Search - ground water depletion      int64\n",
       "Article Text Search - depletion                   int64\n",
       "Article Text Search - infrastructure              int64\n",
       "Article Text Search - fish passage                int64\n",
       "Article Text Search - instream water rights       int64\n",
       "Article Text Search - water rights                int64\n",
       "Article Text Search - intergovernmental           int64\n",
       "Article Text Search - water transfers             int64\n",
       "Article Text Search - navigation                  int64\n",
       "Article Text Search - fish                        int64\n",
       "Article Text Search - invasive                    int64\n",
       "Article Text Search - diversion                   int64\n",
       "Article Text Search - water diversion             int64\n",
       "Article Text Search - instream                    int64\n",
       "Article Text Search - aquatic                     int64\n",
       "dtype: object"
      ]
     },
     "execution_count": 16,
     "metadata": {},
     "output_type": "execute_result"
    }
   ],
   "source": [
    "#4\n",
    "df.dtypes"
   ]
  },
  {
   "cell_type": "code",
   "execution_count": 18,
   "id": "af0e39b3-adcc-4943-b6b1-12f30a6bd2bb",
   "metadata": {
    "tags": []
   },
   "outputs": [
    {
     "name": "stdout",
     "output_type": "stream",
     "text": [
      "<class 'pandas.core.frame.DataFrame'>\n",
      "RangeIndex: 268 entries, 0 to 267\n",
      "Data columns (total 48 columns):\n",
      " #   Column                                        Non-Null Count  Dtype  \n",
      "---  ------                                        --------------  -----  \n",
      " 0   Event                                         268 non-null    int64  \n",
      " 1   Search Source                                 268 non-null    object \n",
      " 2   Newspaper                                     268 non-null    object \n",
      " 3   Article Title                                 268 non-null    object \n",
      " 4   Duplicate                                     267 non-null    object \n",
      " 5   Report Date                                   267 non-null    object \n",
      " 6   Report Year                                   265 non-null    float64\n",
      " 7   Event Date                                    248 non-null    object \n",
      " 8   Event Day                                     18 non-null     float64\n",
      " 9   Event Month                                   212 non-null    float64\n",
      " 10  Event Year                                    257 non-null    float64\n",
      " 11  Conflict Present                              252 non-null    object \n",
      " 12  Crisis Present                                254 non-null    object \n",
      " 13  Basin                                         250 non-null    object \n",
      " 14  HUC6                                          110 non-null    object \n",
      " 15  HUC2                                          250 non-null    object \n",
      " 16  Place                                         254 non-null    object \n",
      " 17  County                                        8 non-null      object \n",
      " 18  County FIPS                                   8 non-null      float64\n",
      " 19  State                                         178 non-null    object \n",
      " 20  State FIPS                                    178 non-null    object \n",
      " 21  Urban or Rural                                254 non-null    object \n",
      " 22  Issue Type                                    255 non-null    object \n",
      " 23  Event Summary                                 256 non-null    object \n",
      " 24  Stakeholders                                  255 non-null    object \n",
      " 25  Intensity Value                               255 non-null    float64\n",
      " 26  Comments                                      190 non-null    object \n",
      " 27  Related Observation Themes                    86 non-null     object \n",
      " 28  Article Text Search - water quality           268 non-null    int64  \n",
      " 29  Article Text Search - invasive species        268 non-null    int64  \n",
      " 30  Article Text Search - conservation            268 non-null    int64  \n",
      " 31  Article Text Search - drought                 268 non-null    int64  \n",
      " 32  Article Text Search - flood                   268 non-null    int64  \n",
      " 33  Article Text Search - ground water depletion  268 non-null    int64  \n",
      " 34  Article Text Search - depletion               268 non-null    int64  \n",
      " 35  Article Text Search - infrastructure          268 non-null    int64  \n",
      " 36  Article Text Search - fish passage            268 non-null    int64  \n",
      " 37  Article Text Search - instream water rights   268 non-null    int64  \n",
      " 38  Article Text Search - water rights            268 non-null    int64  \n",
      " 39  Article Text Search - intergovernmental       268 non-null    int64  \n",
      " 40  Article Text Search - water transfers         268 non-null    int64  \n",
      " 41  Article Text Search - navigation              268 non-null    int64  \n",
      " 42  Article Text Search - fish                    268 non-null    int64  \n",
      " 43  Article Text Search - invasive                268 non-null    int64  \n",
      " 44  Article Text Search - diversion               268 non-null    int64  \n",
      " 45  Article Text Search - water diversion         268 non-null    int64  \n",
      " 46  Article Text Search - instream                268 non-null    int64  \n",
      " 47  Article Text Search - aquatic                 268 non-null    int64  \n",
      "dtypes: float64(6), int64(21), object(21)\n",
      "memory usage: 100.6+ KB\n"
     ]
    }
   ],
   "source": [
    "# 5 \n",
    "\n",
    "df.info()"
   ]
  },
  {
   "cell_type": "markdown",
   "id": "0bbb86a0-1539-4e97-a8b2-0d9075733ba7",
   "metadata": {},
   "source": [
    "## 4. Location Column Descriptions "
   ]
  },
  {
   "cell_type": "markdown",
   "id": "cedb5417-87b4-4a37-a7e8-731032f51c0c",
   "metadata": {},
   "source": [
    "**Place**: Where the event actually occurred, but also where the event’s direct implications are felt most directly. When the researchers reviewed the articles, they were looking for mentions of specific places impacted by the events. Empty cell indicates a place was not coded for this event. NA indicates a place is not referenced in the event text.\n",
    "    \n",
    "**State**: State Name coded from Place field. Empty cell indicates a state was not coded for this event or that the article was not coded."
   ]
  },
  {
   "cell_type": "markdown",
   "id": "5491d386-13fa-4e39-b6fc-5dfad7a6bff7",
   "metadata": {},
   "source": [
    "## 5. String accessor for `pandas.Series`"
   ]
  },
  {
   "cell_type": "code",
   "execution_count": 8,
   "id": "6fd4ef49-d0ff-451d-8b11-6fc76472e0c3",
   "metadata": {
    "tags": []
   },
   "outputs": [
    {
     "data": {
      "text/plain": [
       "0    California; Nevada\n",
       "1               Arizona\n",
       "2                   NaN\n",
       "3          Nevada; Utah\n",
       "dtype: object"
      ]
     },
     "execution_count": 8,
     "metadata": {},
     "output_type": "execute_result"
    }
   ],
   "source": [
    "# Example series\n",
    "s = pd.Series(['California; Nevada', 'Arizona', np.nan, 'Nevada; Utah'])\n",
    "s"
   ]
  },
  {
   "cell_type": "code",
   "execution_count": 9,
   "id": "9236bdca-d391-4996-aaf0-a1a57af16a57",
   "metadata": {
    "tags": []
   },
   "outputs": [
    {
     "data": {
      "text/plain": [
       "<pandas.core.strings.accessor.StringMethods at 0x7f744f43a350>"
      ]
     },
     "execution_count": 9,
     "metadata": {},
     "output_type": "execute_result"
    }
   ],
   "source": [
    "# str accessor (doesn't do anything by itself)\n",
    "s.str"
   ]
  },
  {
   "cell_type": "code",
   "execution_count": 19,
   "id": "5047c06e-8039-4216-90da-a93b5c8dc445",
   "metadata": {
    "tags": []
   },
   "outputs": [
    {
     "data": {
      "text/html": [
       "<div>\n",
       "<style scoped>\n",
       "    .dataframe tbody tr th:only-of-type {\n",
       "        vertical-align: middle;\n",
       "    }\n",
       "\n",
       "    .dataframe tbody tr th {\n",
       "        vertical-align: top;\n",
       "    }\n",
       "\n",
       "    .dataframe thead th {\n",
       "        text-align: right;\n",
       "    }\n",
       "</style>\n",
       "<table border=\"1\" class=\"dataframe\">\n",
       "  <thead>\n",
       "    <tr style=\"text-align: right;\">\n",
       "      <th></th>\n",
       "      <th>0</th>\n",
       "      <th>1</th>\n",
       "    </tr>\n",
       "  </thead>\n",
       "  <tbody>\n",
       "    <tr>\n",
       "      <th>0</th>\n",
       "      <td>California</td>\n",
       "      <td>Nevada</td>\n",
       "    </tr>\n",
       "    <tr>\n",
       "      <th>1</th>\n",
       "      <td>Arizona</td>\n",
       "      <td>None</td>\n",
       "    </tr>\n",
       "    <tr>\n",
       "      <th>2</th>\n",
       "      <td>NaN</td>\n",
       "      <td>NaN</td>\n",
       "    </tr>\n",
       "    <tr>\n",
       "      <th>3</th>\n",
       "      <td>Nevada</td>\n",
       "      <td>Utah</td>\n",
       "    </tr>\n",
       "  </tbody>\n",
       "</table>\n",
       "</div>"
      ],
      "text/plain": [
       "            0        1\n",
       "0  California   Nevada\n",
       "1     Arizona     None\n",
       "2         NaN      NaN\n",
       "3      Nevada     Utah"
      ]
     },
     "execution_count": 19,
     "metadata": {},
     "output_type": "execute_result"
    }
   ],
   "source": [
    "# Use str accessor with additional methods to perform string operations\n",
    "# .split splits strings by ';' and expands output into separate columns\n",
    "s.str.split(';', expand=True)"
   ]
  },
  {
   "cell_type": "code",
   "execution_count": 20,
   "id": "410b9901-d946-45b0-b903-53d0e9876528",
   "metadata": {
    "tags": []
   },
   "outputs": [
    {
     "data": {
      "text/plain": [
       "0  0    California\n",
       "   1        Nevada\n",
       "1  0       Arizona\n",
       "3  0        Nevada\n",
       "   1          Utah\n",
       "dtype: object"
      ]
     },
     "execution_count": 20,
     "metadata": {},
     "output_type": "execute_result"
    }
   ],
   "source": [
    "# Use stack() method to flatten the data frame into a series\n",
    "# default is to drop NAs and None from result\n",
    "s.str.split(';', expand=True).stack()"
   ]
  },
  {
   "cell_type": "markdown",
   "id": "4ec52775-08d0-494c-bd3c-b708eab504ec",
   "metadata": {},
   "source": [
    "## 6. Examine state codes "
   ]
  },
  {
   "cell_type": "code",
   "execution_count": 21,
   "id": "61f18afa-2d2c-471f-9597-2fe670fbeb36",
   "metadata": {
    "tags": []
   },
   "outputs": [
    {
     "data": {
      "text/plain": [
       "array(['CO', nan, 'AZ', 'OH; UT', 'UT', 'CA', 'AZ; NV', 'CO; UT; WY; NM',\n",
       "       'AZ; CA', 'AZ; UT', 'NV; AZ', 'AZ; CA; CO; NV; NM; UT; WY', 'NV',\n",
       "       'NM', 'UT; CO; WY', 'AZ; NM', 'WY; UT; CO', 'CO; AZ'], dtype=object)"
      ]
     },
     "execution_count": 21,
     "metadata": {},
     "output_type": "execute_result"
    }
   ],
   "source": [
    "df[df['Conflict Present'] == 'Y']['State'].unique()"
   ]
  },
  {
   "cell_type": "markdown",
   "id": "6fda2e91-1377-45c1-b32d-36c56a111bca",
   "metadata": {},
   "source": [
    "The challenge is that the array contains states with repition. We are going to need to split the values."
   ]
  },
  {
   "cell_type": "markdown",
   "id": "7cf623e9-13dd-4bff-9d0f-ad756c660686",
   "metadata": {},
   "source": [
    "## 7. Brainstorm\n",
    "\n",
    "1. split values\n",
    "2. Stack values \n",
    "3. Strip - gets ride of white space\n",
    "4. Get unique states only"
   ]
  },
  {
   "cell_type": "markdown",
   "id": "a56f90c8-5330-411f-9f42-056523457aac",
   "metadata": {},
   "source": [
    "## 8. Exploratory Data Wrangling "
   ]
  },
  {
   "cell_type": "code",
   "execution_count": 22,
   "id": "3258b61f-15b2-4c14-85ab-5e5d3b14c4e3",
   "metadata": {
    "tags": []
   },
   "outputs": [
    {
     "data": {
      "text/plain": [
       "0    0     CO\n",
       "1    0     CO\n",
       "5    0     AZ\n",
       "11   0     OH\n",
       "     1     UT\n",
       "         ... \n",
       "257  0     AZ\n",
       "258  0     UT\n",
       "262  0     AZ\n",
       "265  0     AZ\n",
       "     1     CA\n",
       "Length: 132, dtype: object"
      ]
     },
     "execution_count": 22,
     "metadata": {},
     "output_type": "execute_result"
    }
   ],
   "source": [
    "(df[df['Conflict Present'] == 'Y']['State']  \n",
    ".str.split(';', expand = True)\n",
    ".stack())"
   ]
  },
  {
   "cell_type": "markdown",
   "id": "94ed8d50-7dc3-444a-8043-ea4af5785900",
   "metadata": {},
   "source": [
    "## 9 Find Unique State Codes "
   ]
  },
  {
   "cell_type": "code",
   "execution_count": 23,
   "id": "1e43deb8-623b-438a-9ebd-453f26d70c59",
   "metadata": {
    "tags": []
   },
   "outputs": [
    {
     "data": {
      "text/plain": [
       "array(['CO', 'AZ', 'OH', 'UT', 'CA', 'NV', 'WY', 'NM'], dtype=object)"
      ]
     },
     "execution_count": 23,
     "metadata": {},
     "output_type": "execute_result"
    }
   ],
   "source": [
    "(df[df['Conflict Present'] == 'Y']['State']  \n",
    ".str.split(';', expand = True)  \n",
    ".stack()\n",
    ".str.strip()\n",
    ".unique())"
   ]
  },
  {
   "cell_type": "markdown",
   "id": "40abf954-49c0-4101-8cd9-d5446d4765c7",
   "metadata": {},
   "source": [
    "Bonus: How many articles mention each state? "
   ]
  },
  {
   "cell_type": "code",
   "execution_count": 24,
   "id": "d883945d-835e-4780-8a6d-df0a3b3fc8f0",
   "metadata": {
    "tags": []
   },
   "outputs": [
    {
     "data": {
      "text/plain": [
       "AZ    45\n",
       "UT    29\n",
       "CO    22\n",
       "NV    12\n",
       "NM    10\n",
       "CA     7\n",
       "WY     6\n",
       "OH     1\n",
       "Name: count, dtype: int64"
      ]
     },
     "execution_count": 24,
     "metadata": {},
     "output_type": "execute_result"
    }
   ],
   "source": [
    "(df[df['Conflict Present'] == 'Y']['State']  \n",
    ".str.split(';', expand = True)  \n",
    ".stack()\n",
    ".str.strip()\n",
    ".value_counts())"
   ]
  }
 ],
 "metadata": {
  "kernelspec": {
   "display_name": "EDS220",
   "language": "python",
   "name": "eds220-env"
  },
  "language_info": {
   "codemirror_mode": {
    "name": "ipython",
    "version": 3
   },
   "file_extension": ".py",
   "mimetype": "text/x-python",
   "name": "python",
   "nbconvert_exporter": "python",
   "pygments_lexer": "ipython3",
   "version": "3.11.4"
  }
 },
 "nbformat": 4,
 "nbformat_minor": 5
}
