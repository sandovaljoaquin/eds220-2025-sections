{
 "cells": [
  {
   "cell_type": "markdown",
   "id": "e6762087-31f4-4787-a3b4-4274b45e4b68",
   "metadata": {},
   "source": [
    "## 1. Archive Exploration\n",
    "\n",
    "Take some time to look through the dataset’s description in EDI and click around. Discuss the following questions with your team:\n",
    "\n",
    "What is this data about?\n",
    "\n",
    "Snowshoe hair physical data in Bonzana Creek Experimental Forest.\n",
    "\n",
    "During what time frame were the observations in the dataset collected?\n",
    "\n",
    "1999 - 2012\n",
    "\n",
    "Does the dataset contain sensitive data?\n",
    "\n",
    "No\n",
    "\n",
    "Is there a publication associated with this dataset?\n",
    "\n",
    "Flora, B.K. 2002. Comparison of snowshoe hare populations in Interior. M.S. Thesis. University of Alaska Fairbanks. Fairbanks, AK, USA."
   ]
  },
  {
   "cell_type": "markdown",
   "id": "cce257bc-76ff-447e-85ab-ae2acc30e1fd",
   "metadata": {},
   "source": [
    "\n",
    "In your notebook: use a markdown cell to add a brief description of the dataset, including a citation, date of access, and a link to the archive.\n",
    "\n",
    "brief description: Capture/recapture studies of snowshoe hares at 5 locales in Tanana valley.  \n",
    "\n",
    "citation: Kielland, K., F.S. Chapin, R.W. Ruess, and Bonanza Creek LTER. 2017. Snowshoe hare physical data in Bonanza Creek Experimental Forest: 1999-Present ver 22. Environmental Data Initiative. https://doi.org/10.6073/pasta/03dce4856d79b91557d8e6ce2cbcdc14 (Accessed 2025-10-17).\n",
    "\n",
    "date of access: 10/16/2025\n",
    "\n",
    "link: https://portal.edirepository.org/nis/mapbrowse?packageid=knb-lter-bnz.55.22"
   ]
  },
  {
   "cell_type": "markdown",
   "id": "c04c288b-6c19-4a41-81b0-d631f737665f",
   "metadata": {},
   "source": [
    "## 2. Adding an image "
   ]
  },
  {
   "cell_type": "markdown",
   "id": "3c810d5a-3ed9-4e94-a871-bb0e78955cdc",
   "metadata": {
    "tags": []
   },
   "source": [
    "![Snowshoe hare: Photographs by Alan Schmierer](https://upload.wikimedia.org/wikipedia/commons/thumb/8/8a/SNOWSHOE_HARE_%28Lepus_americanus%29_%285-28-2015%29_quoddy_head%2C_washington_co%2C_maine_-01_%2818988734889%29.jpg/1452px-SNOWSHOE_HARE_%28Lepus_americanus%29_%285-28-2015%29_quoddy_head%2C_washington_co%2C_maine_-01_%2818988734889%29.jpg?20170313021652)"
   ]
  },
  {
   "cell_type": "markdown",
   "id": "73971640-21df-4f6d-baf1-ab91acca7f43",
   "metadata": {},
   "source": [
    "## 3. Data loading and preliminary exploration"
   ]
  },
  {
   "cell_type": "code",
   "execution_count": 8,
   "id": "845d1361-fac3-40cd-aa64-f7bc313998f4",
   "metadata": {
    "tags": []
   },
   "outputs": [],
   "source": [
    "import pandas as pd"
   ]
  },
  {
   "cell_type": "code",
   "execution_count": 12,
   "id": "50b4b90c-414d-49a5-9a08-4d55cc9bf8b8",
   "metadata": {
    "tags": []
   },
   "outputs": [],
   "source": [
    "url = 'https://pasta.lternet.edu/package/data/eml/knb-lter-bnz/55/22/f01f5d71be949b8c700b6ecd1c42c701'\n",
    "snowshoe = pd.read_csv(url)"
   ]
  },
  {
   "cell_type": "code",
   "execution_count": 14,
   "id": "20398ad3-e003-4d72-bfae-1959a5257668",
   "metadata": {
    "tags": []
   },
   "outputs": [
    {
     "name": "stdout",
     "output_type": "stream",
     "text": [
      "<class 'pandas.core.frame.DataFrame'>\n",
      "RangeIndex: 3380 entries, 0 to 3379\n",
      "Data columns (total 14 columns):\n",
      " #   Column      Non-Null Count  Dtype  \n",
      "---  ------      --------------  -----  \n",
      " 0   date        3380 non-null   object \n",
      " 1   time        264 non-null    object \n",
      " 2   grid        3380 non-null   object \n",
      " 3   trap        3368 non-null   object \n",
      " 4   l_ear       3332 non-null   object \n",
      " 5   r_ear       3211 non-null   object \n",
      " 6   sex         3028 non-null   object \n",
      " 7   age         1269 non-null   object \n",
      " 8   weight      2845 non-null   float64\n",
      " 9   hindft      1633 non-null   float64\n",
      " 10  notes       243 non-null    object \n",
      " 11  b_key       3333 non-null   float64\n",
      " 12  session_id  3380 non-null   int64  \n",
      " 13  study       3217 non-null   object \n",
      "dtypes: float64(3), int64(1), object(10)\n",
      "memory usage: 369.8+ KB\n"
     ]
    }
   ],
   "source": [
    "snowshoe.info()"
   ]
  },
  {
   "cell_type": "code",
   "execution_count": 15,
   "id": "a3f6fc99-d812-4dbb-a5ee-ae48c9a7eb33",
   "metadata": {
    "tags": []
   },
   "outputs": [
    {
     "data": {
      "text/plain": [
       "(3380, 14)"
      ]
     },
     "execution_count": 15,
     "metadata": {},
     "output_type": "execute_result"
    }
   ],
   "source": [
    "snowshoe.shape"
   ]
  },
  {
   "cell_type": "code",
   "execution_count": 17,
   "id": "289d8509-b150-40c0-b15f-17d371e68d4c",
   "metadata": {
    "tags": []
   },
   "outputs": [
    {
     "data": {
      "text/plain": [
       "date             0\n",
       "time          3116\n",
       "grid             0\n",
       "trap            12\n",
       "l_ear           48\n",
       "r_ear          169\n",
       "sex            352\n",
       "age           2111\n",
       "weight         535\n",
       "hindft        1747\n",
       "notes         3137\n",
       "b_key           47\n",
       "session_id       0\n",
       "study          163\n",
       "dtype: int64"
      ]
     },
     "execution_count": 17,
     "metadata": {},
     "output_type": "execute_result"
    }
   ],
   "source": [
    "snowshoe.isna().sum()"
   ]
  },
  {
   "cell_type": "code",
   "execution_count": 20,
   "id": "593403ee-fa2a-4908-8e0f-987e166cbe8d",
   "metadata": {
    "tags": []
   },
   "outputs": [
    {
     "data": {
      "text/plain": [
       "weight     0.0\n",
       "hindft    60.0\n",
       "dtype: float64"
      ]
     },
     "execution_count": 20,
     "metadata": {},
     "output_type": "execute_result"
    }
   ],
   "source": [
    "snowshoe[['weight', 'hindft']].min()"
   ]
  },
  {
   "cell_type": "code",
   "execution_count": 21,
   "id": "91c9c0f9-df67-4a3c-82b1-e8f932601e0c",
   "metadata": {
    "tags": []
   },
   "outputs": [
    {
     "data": {
      "text/plain": [
       "weight    2365.0\n",
       "hindft     160.0\n",
       "dtype: float64"
      ]
     },
     "execution_count": 21,
     "metadata": {},
     "output_type": "execute_result"
    }
   ],
   "source": [
    "snowshoe[['weight', 'hindft']].max()"
   ]
  },
  {
   "cell_type": "code",
   "execution_count": 24,
   "id": "1bfa6e35-e3e7-4b25-b23d-2512901963e5",
   "metadata": {
    "tags": []
   },
   "outputs": [
    {
     "data": {
      "text/plain": [
       "array([nan, 'No right ear tag', 'Escapee', 'Mortality', 'Mortality ',\n",
       "       'Old tag lost in L ear',\n",
       "       'Bunny escaped before second ear tag was added',\n",
       "       'Rabbit too bloody, released', 'R Front Foot Injured',\n",
       "       'L Hind Leg Injured',\n",
       "       'Left Front Foot Injured by Mink. Mink Still Around, Not Shy',\n",
       "       'Injured Bunny, Released, No Tags', 'Died after release',\n",
       "       'Dead in trap', 'Dead', 'non-pregnant',\n",
       "       'pregnant (2 peanut sized babies)', 'pregnant', 'Pregnant',\n",
       "       'Pregnant; last collar was chewed off',\n",
       "       '149.074 recapture; collar loose, removed and replaced; non-pregnant',\n",
       "       'previous collar was chewed off',\n",
       "       '149.013 came off/removed; replaced',\n",
       "       '149.033 recapture; collar loose, removed and replaced',\n",
       "       'previous collar fell off',\n",
       "       'collar previously chewed off (put back on the same bunny!)',\n",
       "       'collar broke off, caught in cage', 'dead in trap',\n",
       "       '149.754 recapture; no VHF signal, removed and replaced',\n",
       "       '149.614 recapture; no VHF signal, removed and replaced',\n",
       "       'tick 19',\n",
       "       '149.474 recapture; low battery, removed collar and replaced',\n",
       "       '149.844 recapture; signal very quiet, removed collar and replaced',\n",
       "       'baby', '149.773 recapture; no VHF signal, removed and replaced',\n",
       "       'tick 18',\n",
       "       'removed GPS collar 151.243 (transmitter dead), trapped N of BONRIP grid',\n",
       "       '149.853 recapture; removed collar and replaced',\n",
       "       'ear punch and blood sample taken', 'ear punch taken',\n",
       "       'blood sample taken',\n",
       "       '149.834 recapture; no signal from transmitter, removed collar; ear punch taken',\n",
       "       'GPS collar',\n",
       "       '149.535 recapture; removed due to injury from overtightening',\n",
       "       'removed iButton that was falling off',\n",
       "       '151.243 GPS recapture; removed collar and replaced with VHF collar',\n",
       "       '150.540 GPS recapture; removed collar',\n",
       "       '151.243 GPS recapture; removed collar',\n",
       "       '150.510 GPS recapture; removed collar',\n",
       "       '150.520 GPS recapture off grid; removed GPS collar and replaced with VHF',\n",
       "       '149.334 recapture; no VHF signal, removed collar and replaced',\n",
       "       '149.874 recapture; no VHF signal, removed collar and replaced',\n",
       "       '149.615 recapture; \"kchunk\" VHF signal, removed collar and replaced',\n",
       "       '149.112 recapture; VHF signal strange, removed collar and replaced',\n",
       "       'no tags until 4/18/11', 'tags given today',\n",
       "       'tons of ticks on ears inside and out, as well as top of head, eyes, etc.',\n",
       "       '149.763 recapture; no signal from transmitter, removed and replaced with 149.802; weird ear growth/scab protruding upward from the ear over an inch! Bloody at base',\n",
       "       'yes, captured the same bunny as in 5a!',\n",
       "       '149.723 recapture; removed and replaced with GPS collar 151.273',\n",
       "       '149.844 recapture; removed and replaced with GPS collar 150.510',\n",
       "       '149.802 recapture; removed and replaced with GPS collar 150.520',\n",
       "       '149.744 recapture; removed and replaced with GPS collar 150.530',\n",
       "       '149.814 recapture; removed and replaced with GPS collar 150.540',\n",
       "       'untagged juvenile', 'escaped without replacing collar',\n",
       "       'untagged juvenile dead in trap',\n",
       "       'GPS antenna still attached to zip tie',\n",
       "       '149.723 removed; foot caught in collar',\n",
       "       '149.814 removed; collar too tight', 'New right ear tag',\n",
       "       'No tags given until 11/6/11',\n",
       "       'Trap overturned with lots of digging; hare seems ok',\n",
       "       'RIGHT LEG INJURED IN TRAP', 'DEAD NEAR TRAP', 'DEAD - UNTAGGED ',\n",
       "       'collar 149.373 fell off since last trapping',\n",
       "       'collar fell off since last trapping', 'removed collar in mouth',\n",
       "       'collar fell off sometime before next capture and was found at 3A',\n",
       "       'bunny escaped; has collar', 'mort', 'No right ear tag given.',\n",
       "       'No right ear tag until 9/8/10.',\n",
       "       'left ear tag fell out later, changed to a3132',\n",
       "       'caught two hares in one trap, let both go',\n",
       "       'previously different left ear tag',\n",
       "       'two collars! (also has 149.013)', 'injured in trap, euthanised',\n",
       "       '149.595 recapture; low batteries, removed and replaced',\n",
       "       'batteries ded',\n",
       "       'trap was moved a bit; tar paper off, ground scuffed up',\n",
       "       'no VHF signal, removed collar',\n",
       "       'diggings around cage (probably lynx); eyes watery',\n",
       "       'blood on nose; extremely docile, but sprinted away with plenty of energy',\n",
       "       '149.373 recapture; no VHF signal, removed collar and replaced',\n",
       "       'died in handling, removed collar',\n",
       "       '149.136 recapture; no VHF signal, removed collar and replaced',\n",
       "       '149.434 recapture; no VHF signal, removed collar and replaced',\n",
       "       '149.795 recapture; no VHF signal, removed collar and replaced',\n",
       "       '149.674 recapture; no VHF signal, removed collar and replaced',\n",
       "       'descended testes',\n",
       "       '149.033 recapture; no VHF signal, removed collar and replaced',\n",
       "       '149.413 recapture; no VHF signal, removed collar and replaced',\n",
       "       '149.393 recapture; no VHF signal, removed collar and replaced',\n",
       "       'wrong tag numbers???', 'lethargic, did not hop away',\n",
       "       \"previously a3210/a3211, but both tags must've fallen out because they were put in with a leatherman!\",\n",
       "       'Hare on verge of death, occasional spastic motion with legs, unable to sit upright. Removed collar.',\n",
       "       'Gave birth to 5 leverets in trap (50, 50, 50, 50, 60 g, all dead) and female near death, removed collar.',\n",
       "       'New, untagged hare. Injured right hind foot (possibly by predator overnight). Let go.',\n",
       "       'Juvenile', 'juvenile',\n",
       "       'Removed thinking it was 149.194 that had expired', 'Collared',\n",
       "       'testes descended', \"thought collar was silent, but it wasn't\",\n",
       "       'lots of ticks, fur patchy and mangy looking',\n",
       "       'cut collar, hare near death, died an hour after release'],\n",
       "      dtype=object)"
      ]
     },
     "execution_count": 24,
     "metadata": {},
     "output_type": "execute_result"
    }
   ],
   "source": [
    "snowshoe[['notes', 'l_ear', 'r_', '']].unique()"
   ]
  },
  {
   "cell_type": "markdown",
   "id": "4d2ab1ba-de2a-4845-aed7-21237197cf70",
   "metadata": {},
   "source": [
    "## 4. Detecting messy values "
   ]
  },
  {
   "cell_type": "code",
   "execution_count": null,
   "id": "b835b43a-3461-471d-a333-17a47a09ac7e",
   "metadata": {},
   "outputs": [],
   "source": []
  },
  {
   "cell_type": "markdown",
   "id": "40065e76-f28d-41f6-8f99-b1e7c46d3403",
   "metadata": {},
   "source": [
    "## 5. Brainstorm"
   ]
  },
  {
   "cell_type": "markdown",
   "id": "b923845e-3007-4f09-9d52-338463792c4c",
   "metadata": {},
   "source": [
    "## 6. Clean Values "
   ]
  },
  {
   "cell_type": "markdown",
   "id": "0e85f8fb-4e6f-4bb6-8c1a-c3cfa8c9372a",
   "metadata": {},
   "source": [
    "## 7. Calculate mean weight "
   ]
  },
  {
   "cell_type": "markdown",
   "id": "7e28f3b3-a559-4d53-b0a4-e52bfcac8d1c",
   "metadata": {},
   "source": [
    "## 8. Collect your code and explain results "
   ]
  }
 ],
 "metadata": {
  "kernelspec": {
   "display_name": "EDS220",
   "language": "python",
   "name": "eds220-env"
  },
  "language_info": {
   "codemirror_mode": {
    "name": "ipython",
    "version": 3
   },
   "file_extension": ".py",
   "mimetype": "text/x-python",
   "name": "python",
   "nbconvert_exporter": "python",
   "pygments_lexer": "ipython3",
   "version": "3.11.4"
  }
 },
 "nbformat": 4,
 "nbformat_minor": 5
}
