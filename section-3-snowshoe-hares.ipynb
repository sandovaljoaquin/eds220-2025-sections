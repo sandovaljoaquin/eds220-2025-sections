{
 "cells": [
  {
   "cell_type": "markdown",
   "id": "e6762087-31f4-4787-a3b4-4274b45e4b68",
   "metadata": {},
   "source": [
    "## 1. Archive Exploration\n",
    "\n",
    "Take some time to look through the dataset’s description in EDI and click around. Discuss the following questions with your team:\n",
    "\n",
    "What is this data about?\n",
    "\n",
    "Snowshoe hair physical data in Bonzana Creek Experimental Forest.\n",
    "\n",
    "During what time frame were the observations in the dataset collected?\n",
    "\n",
    "1999 - 2012\n",
    "\n",
    "Does the dataset contain sensitive data?\n",
    "\n",
    "No\n",
    "\n",
    "Is there a publication associated with this dataset?\n",
    "\n",
    "Flora, B.K. 2002. Comparison of snowshoe hare populations in Interior. M.S. Thesis. University of Alaska Fairbanks. Fairbanks, AK, USA."
   ]
  },
  {
   "cell_type": "markdown",
   "id": "cce257bc-76ff-447e-85ab-ae2acc30e1fd",
   "metadata": {},
   "source": [
    "\n",
    "In your notebook: use a markdown cell to add a brief description of the dataset, including a citation, date of access, and a link to the archive.\n",
    "\n",
    "brief description: Capture/recapture studies of snowshoe hares at 5 locales in Tanana valley.  \n",
    "\n",
    "citation: Kielland, K., F.S. Chapin, R.W. Ruess, and Bonanza Creek LTER. 2017. Snowshoe hare physical data in Bonanza Creek Experimental Forest: 1999-Present ver 22. Environmental Data Initiative. https://doi.org/10.6073/pasta/03dce4856d79b91557d8e6ce2cbcdc14 (Accessed 2025-10-17).\n",
    "\n",
    "date of access: 10/16/2025\n",
    "\n",
    "link: https://portal.edirepository.org/nis/mapbrowse?packageid=knb-lter-bnz.55.22"
   ]
  },
  {
   "cell_type": "markdown",
   "id": "c04c288b-6c19-4a41-81b0-d631f737665f",
   "metadata": {},
   "source": [
    "## 2. Adding an image "
   ]
  },
  {
   "cell_type": "markdown",
   "id": "3c810d5a-3ed9-4e94-a871-bb0e78955cdc",
   "metadata": {
    "tags": []
   },
   "source": [
    "![Snowshoe hare](https://upload.wikimedia.org/wikipedia/commons/thumb/8/8a/SNOWSHOE_HARE_%28Lepus_americanus%29_%285-28-2015%29_quoddy_head%2C_washington_co%2C_maine_-01_%2818988734889%29.jpg/1452px-SNOWSHOE_HARE_%28Lepus_americanus%29_%285-28-2015%29_quoddy_head%2C_washington_co%2C_maine_-01_%2818988734889%29.jpg?20170313021652)"
   ]
  },
  {
   "cell_type": "markdown",
   "id": "73971640-21df-4f6d-baf1-ab91acca7f43",
   "metadata": {},
   "source": [
    "## 3. Data loading and preliminary exploration"
   ]
  },
  {
   "cell_type": "markdown",
   "id": "4d2ab1ba-de2a-4845-aed7-21237197cf70",
   "metadata": {},
   "source": [
    "## 4. Detecting messy values "
   ]
  },
  {
   "cell_type": "markdown",
   "id": "40065e76-f28d-41f6-8f99-b1e7c46d3403",
   "metadata": {},
   "source": [
    "## 5. Brainstorm"
   ]
  },
  {
   "cell_type": "markdown",
   "id": "b923845e-3007-4f09-9d52-338463792c4c",
   "metadata": {},
   "source": [
    "## 6. Clean Values "
   ]
  },
  {
   "cell_type": "markdown",
   "id": "0e85f8fb-4e6f-4bb6-8c1a-c3cfa8c9372a",
   "metadata": {},
   "source": [
    "## 7. Calculate mean weight "
   ]
  },
  {
   "cell_type": "markdown",
   "id": "7e28f3b3-a559-4d53-b0a4-e52bfcac8d1c",
   "metadata": {},
   "source": [
    "## 8. Collect your code and explain results "
   ]
  }
 ],
 "metadata": {
  "kernelspec": {
   "display_name": "EDS220",
   "language": "python",
   "name": "eds220-env"
  },
  "language_info": {
   "codemirror_mode": {
    "name": "ipython",
    "version": 3
   },
   "file_extension": ".py",
   "mimetype": "text/x-python",
   "name": "python",
   "nbconvert_exporter": "python",
   "pygments_lexer": "ipython3",
   "version": "3.11.4"
  }
 },
 "nbformat": 4,
 "nbformat_minor": 5
}
